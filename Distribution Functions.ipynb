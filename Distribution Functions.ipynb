{
 "cells": [
  {
   "cell_type": "code",
   "execution_count": 1,
   "metadata": {},
   "outputs": [],
   "source": [
    "#Manipulate\n",
    "from __future__ import print_function\n",
    "from __future__ import division\n",
    "from ipywidgets import interact, interactive, fixed, interact_manual\n",
    "import ipywidgets as widgets\n",
    "\n",
    "#\n",
    "from sympy import *\n",
    "import sympy as sp\n",
    "sp.init_printing(use_latex=\"mathjax\")\n",
    "from sympy.solvers.solveset import linsolve\n",
    "from sympy.solvers import solve\n",
    "import numpy as np\n",
    "\n",
    "#\n",
    "import mpmath as mp\n",
    "\n",
    "import random as rd\n",
    "\n",
    "#timer\n",
    "import time\n",
    "\n",
    "%config InlineBackend.figure_format = 'retina'\n",
    "\n",
    "%matplotlib inline\n",
    "from matplotlib import pyplot as plt\n",
    "\n",
    "%config InlineBackend.figure_format = 'retina'\n",
    "from IPython.display import display"
   ]
  },
  {
   "cell_type": "code",
   "execution_count": 2,
   "metadata": {},
   "outputs": [
    {
     "data": {
      "application/vnd.jupyter.widget-view+json": {
       "model_id": "149b06cfd7ca480987e2201bc50acf4c",
       "version_major": 2,
       "version_minor": 0
      },
      "text/plain": [
       "interactive(children=(FloatSlider(value=1.00000001, description='T', max=2.1, min=1e-08), Output()), _dom_clas…"
      ]
     },
     "metadata": {},
     "output_type": "display_data"
    },
    {
     "data": {
      "text/plain": [
       "<function __main__.F(T)>"
      ]
     },
     "execution_count": 2,
     "metadata": {},
     "output_type": "execute_result"
    }
   ],
   "source": [
    "def F(T):\n",
    "    E = np.linspace(0,5,1000)  \n",
    "    Ef = 2.5\n",
    "    fMB = np.exp(-E/T)\n",
    "    fBE = 1/((np.exp((E-Ef)/T))-1)\n",
    "    fFD = 1/((np.exp((E-Ef)/T))+1)\n",
    "    \n",
    "    fig = plt.figure()\n",
    "    \n",
    "    ax1 = fig.add_subplot(111)\n",
    "    ax1.set_xlim([0,5])\n",
    "    ax1.set_ylim([0,1.2])\n",
    "\n",
    "    ax1.plot(E, fMB, label=r'$f_{Maxwell-Boltzmann}$')\n",
    "    ax1.plot(E, fFD, label='$f_{Fermi-Dirac}$') \n",
    "    ax1.plot(E[500:] , fBE[500:], label='$f_{Bose-Einstein}$')\n",
    "    \n",
    "    plt.axvline(x=2.5, color='r')\n",
    "    \n",
    "    plt.xlabel(r'$Energy, E$', labelpad=30, fontsize=16)\n",
    "    plt.ylabel('Probability Density Function \\n $f(E)$', fontsize=16)\n",
    "    \n",
    "    plt.tick_params(\n",
    "    axis='x',          # changes apply to the x-axis\n",
    "    which='both',      # both major and minor ticks are affected\n",
    "    bottom=False,      # ticks along the bottom edge are off\n",
    "    top=False,         # ticks along the top edge are off\n",
    "    labelbottom=False) # labels along the bottom edge are off\n",
    "    \n",
    "    ax1.text(2.2, -0.1, r'$E_{Fermi}$', fontsize=12, color='r')\n",
    "    \n",
    "    plt.legend(bbox_to_anchor=(1.05, 1), loc='upper left', borderaxespad=0., fontsize=14)\n",
    "    \n",
    "    plt.grid(True)\n",
    "    plt.show()\n",
    "    \n",
    "interact(F, T=(0.00000001,2.1,0.1))\n",
    "    "
   ]
  },
  {
   "cell_type": "code",
   "execution_count": null,
   "metadata": {},
   "outputs": [],
   "source": []
  }
 ],
 "metadata": {
  "kernelspec": {
   "display_name": "Python 3",
   "language": "python",
   "name": "python3"
  },
  "language_info": {
   "codemirror_mode": {
    "name": "ipython",
    "version": 3
   },
   "file_extension": ".py",
   "mimetype": "text/x-python",
   "name": "python",
   "nbconvert_exporter": "python",
   "pygments_lexer": "ipython3",
   "version": "3.7.3"
  }
 },
 "nbformat": 4,
 "nbformat_minor": 2
}
